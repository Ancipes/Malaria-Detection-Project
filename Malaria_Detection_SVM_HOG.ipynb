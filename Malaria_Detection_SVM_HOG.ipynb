{
  "nbformat": 4,
  "nbformat_minor": 0,
  "metadata": {
    "accelerator": "GPU",
    "colab": {
      "name": "Malaria_Detection_SVM_HOG.ipynb",
      "provenance": [],
      "collapsed_sections": []
    },
    "kernelspec": {
      "display_name": "Python 3",
      "language": "python",
      "name": "python3"
    },
    "language_info": {
      "codemirror_mode": {
        "name": "ipython",
        "version": 3
      },
      "file_extension": ".py",
      "mimetype": "text/x-python",
      "name": "python",
      "nbconvert_exporter": "python",
      "pygments_lexer": "ipython3",
      "version": "3.6.8"
    }
  },
  "cells": [
    {
      "cell_type": "markdown",
      "metadata": {
        "colab_type": "text",
        "id": "iwSC8wkmtWHh"
      },
      "source": [
        "# 1. Introduction to Problem Statement\n",
        "\n",
        "Malaria is one of the deadliest diseases. It is a life-threatening disease caused by parasites that are transmitted to people through the bites of infected female Anopheles mosquitoes. It is preventable and curable.\n",
        "\n",
        "\n",
        "However, Malaria diagnosis involves close examination of the blood smear at 100x magnification. This is followed by a manual counting process wherein experts count the number of Red blood cells impacted by parasites. Automatic detection of Malaria from blood smear image is a scalable solution and can save a lot of hours for healthcare industry going a long way in our battle against this deadly disease. In this project, we try to identify from blood smears using deep learning to predict whether the sample is taken from an infected person.\n"
      ]
    },
    {
      "cell_type": "markdown",
      "metadata": {
        "id": "VoOCGR2gxJgZ",
        "colab_type": "text"
      },
      "source": [
        "# 2. Understanding Data Set"
      ]
    },
    {
      "cell_type": "markdown",
      "metadata": {
        "id": "il4mNh1wxJga",
        "colab_type": "text"
      },
      "source": [
        "First of all, let's set the base directory for reading images as all the images of the dataset are present in this directory."
      ]
    },
    {
      "cell_type": "code",
      "metadata": {
        "colab_type": "code",
        "id": "pR3f9foAtWH3",
        "scrolled": true,
        "colab": {}
      },
      "source": [
        "import numpy as np\n",
        "import pandas as pd"
      ],
      "execution_count": null,
      "outputs": []
    },
    {
      "cell_type": "markdown",
      "metadata": {
        "colab_type": "text",
        "id": "xJciBQjNtWH8"
      },
      "source": [
        "Now lets import the train.csv and look at its contents."
      ]
    },
    {
      "cell_type": "code",
      "metadata": {
        "colab_type": "code",
        "id": "IiRmCmpjtWH9",
        "scrolled": true,
        "colab": {
          "base_uri": "https://localhost:8080/",
          "height": 34
        },
        "outputId": "242e775d-58c5-4a7f-cc8a-bdd330f42d5a"
      },
      "source": [
        "train_df = pd.read_csv('train.csv')\n",
        "train_df.shape"
      ],
      "execution_count": null,
      "outputs": [
        {
          "output_type": "execute_result",
          "data": {
            "text/plain": [
              "(19290, 2)"
            ]
          },
          "metadata": {
            "tags": []
          },
          "execution_count": 5
        }
      ]
    },
    {
      "cell_type": "code",
      "metadata": {
        "colab_type": "code",
        "id": "oYL9-7tqWuzI",
        "scrolled": true,
        "colab": {
          "base_uri": "https://localhost:8080/",
          "height": 204
        },
        "outputId": "74dea482-392c-4860-bbf6-306948f4f012"
      },
      "source": [
        "train_df.head()"
      ],
      "execution_count": null,
      "outputs": [
        {
          "output_type": "execute_result",
          "data": {
            "text/html": [
              "<div>\n",
              "<style scoped>\n",
              "    .dataframe tbody tr th:only-of-type {\n",
              "        vertical-align: middle;\n",
              "    }\n",
              "\n",
              "    .dataframe tbody tr th {\n",
              "        vertical-align: top;\n",
              "    }\n",
              "\n",
              "    .dataframe thead th {\n",
              "        text-align: right;\n",
              "    }\n",
              "</style>\n",
              "<table border=\"1\" class=\"dataframe\">\n",
              "  <thead>\n",
              "    <tr style=\"text-align: right;\">\n",
              "      <th></th>\n",
              "      <th>filename</th>\n",
              "      <th>label</th>\n",
              "    </tr>\n",
              "  </thead>\n",
              "  <tbody>\n",
              "    <tr>\n",
              "      <th>0</th>\n",
              "      <td>C50P11thinF_IMG_20150724_114951_cell_148.png</td>\n",
              "      <td>malaria</td>\n",
              "    </tr>\n",
              "    <tr>\n",
              "      <th>1</th>\n",
              "      <td>C112P73ThinF_IMG_20150930_131659_cell_94.png</td>\n",
              "      <td>healthy</td>\n",
              "    </tr>\n",
              "    <tr>\n",
              "      <th>2</th>\n",
              "      <td>C59P20thinF_IMG_20150803_111333_cell_144.png</td>\n",
              "      <td>malaria</td>\n",
              "    </tr>\n",
              "    <tr>\n",
              "      <th>3</th>\n",
              "      <td>C158P119ThinF_IMG_20151115_181136_cell_202.png</td>\n",
              "      <td>malaria</td>\n",
              "    </tr>\n",
              "    <tr>\n",
              "      <th>4</th>\n",
              "      <td>C81P42ThinF_IMG_20150817_120524_cell_190.png</td>\n",
              "      <td>malaria</td>\n",
              "    </tr>\n",
              "  </tbody>\n",
              "</table>\n",
              "</div>"
            ],
            "text/plain": [
              "                                         filename    label\n",
              "0    C50P11thinF_IMG_20150724_114951_cell_148.png  malaria\n",
              "1    C112P73ThinF_IMG_20150930_131659_cell_94.png  healthy\n",
              "2    C59P20thinF_IMG_20150803_111333_cell_144.png  malaria\n",
              "3  C158P119ThinF_IMG_20151115_181136_cell_202.png  malaria\n",
              "4    C81P42ThinF_IMG_20150817_120524_cell_190.png  malaria"
            ]
          },
          "metadata": {
            "tags": []
          },
          "execution_count": 6
        }
      ]
    },
    {
      "cell_type": "code",
      "metadata": {
        "colab_type": "code",
        "id": "W67wGZA_EYxl",
        "scrolled": true,
        "colab": {
          "base_uri": "https://localhost:8080/",
          "height": 68
        },
        "outputId": "ae280242-a605-451e-daef-f055ed2e75c8"
      },
      "source": [
        "#understand the distribution of both classes in the training data set\n",
        "train_df['label'].value_counts()"
      ],
      "execution_count": null,
      "outputs": [
        {
          "output_type": "execute_result",
          "data": {
            "text/plain": [
              "healthy    9645\n",
              "malaria    9645\n",
              "Name: label, dtype: int64"
            ]
          },
          "metadata": {
            "tags": []
          },
          "execution_count": 7
        }
      ]
    },
    {
      "cell_type": "markdown",
      "metadata": {
        "colab_type": "text",
        "id": "Bnss05_TOFRW"
      },
      "source": [
        "From the above cell we can observe that our train set consists of equal samples of both the classes thus we will not face any problem due to class imbalance in the dataset.\n"
      ]
    },
    {
      "cell_type": "code",
      "metadata": {
        "id": "_387fi-KxJgq",
        "colab_type": "code",
        "colab": {},
        "outputId": "751ef39e-ef2c-4429-eca6-98448c5a2c4a"
      },
      "source": [
        "import matplotlib.pyplot as plt\n",
        "from skimage.io import imread, imshow\n",
        "\n",
        "plt.figure(figsize=(15,15))\n",
        "fig, ax = plt.subplots(nrows=2, ncols=2)\n",
        "\n",
        "for i in range(2):\n",
        "    for j in range(2):\n",
        "        #Reading files after concatenating file name with folder path\n",
        "        image = imread(os.path.join(base_dir,train_df[\"filename\"][i+2*j]))\n",
        "        #showing some images of the dataset\n",
        "        ax[i,j].imshow(image)\n",
        "        ax[i,j].set_ylabel(train_df[\"label\"][i+2*j])"
      ],
      "execution_count": null,
      "outputs": [
        {
          "output_type": "display_data",
          "data": {
            "text/plain": [
              "<Figure size 1080x1080 with 0 Axes>"
            ]
          },
          "metadata": {
            "tags": []
          }
        },
        {
          "output_type": "display_data",
          "data": {
            "image/png": "[encoded data removed]",
            "text/plain": [
              "<Figure size 432x288 with 4 Axes>"
            ]
          },
          "metadata": {
            "tags": [],
            "needs_background": "light"
          }
        }
      ]
    },
    {
      "cell_type": "markdown",
      "metadata": {
        "id": "V-T6DXlixJgt",
        "colab_type": "text"
      },
      "source": [
        "# 3. Data Preparation"
      ]
    },
    {
      "cell_type": "markdown",
      "metadata": {
        "colab_type": "text",
        "id": "9Dcrg_TQO0WC"
      },
      "source": [
        "1. since we have textual labels for our images i.e. Parasitized/Uninfected so we will convert them to numerical labels i.e. 0/1"
      ]
    },
    {
      "cell_type": "code",
      "metadata": {
        "colab_type": "code",
        "id": "y1trosZhEuOM",
        "scrolled": true,
        "colab": {
          "base_uri": "https://localhost:8080/",
          "height": 1105
        },
        "outputId": "7c20ee33-3f49-434a-a7da-b87d0e43b5e0"
      },
      "source": [
        "from sklearn import preprocessing\n",
        "\n",
        "#create the LabelEncoder object\n",
        "le = preprocessing.LabelEncoder()\n",
        "\n",
        "# Fit label Encoder\n",
        "le.fit(train_df['label'])\n",
        "\n",
        "#transform textual labels\n",
        "labels = le.transform(train_df['label'])\n",
        "\n",
        "print('0 - ',le.inverse_transform(0))\n",
        "print('1 - ',le.inverse_transform(1))"
      ],
      "execution_count": null,
      "outputs": [
        {
          "output_type": "stream",
          "text": [
            "0 -  healthy\n",
            "1 -  malaria\n"
          ],
          "name": "stdout"
        },
        {
          "output_type": "stream",
          "text": [
            "/home/sanad/.conda/envs/stanfordnlp/lib/python3.6/site-packages/sklearn/preprocessing/label.py:151: DeprecationWarning: The truth value of an empty array is ambiguous. Returning False, but in future this will result in an error. Use `array.size > 0` to check that an array is not empty.\n",
            "  if diff:\n",
            "/home/sanad/.conda/envs/stanfordnlp/lib/python3.6/site-packages/sklearn/preprocessing/label.py:151: DeprecationWarning: The truth value of an empty array is ambiguous. Returning False, but in future this will result in an error. Use `array.size > 0` to check that an array is not empty.\n",
            "  if diff:\n"
          ],
          "name": "stderr"
        }
      ]
    },
    {
      "cell_type": "markdown",
      "metadata": {
        "colab_type": "text",
        "id": "ljdBvqdDSkdX"
      },
      "source": [
        "2. Here we split the dataset into training and validation sets.\n",
        "Training set is the subset of the dataset that is used for training and validation set is used to evaluate the performance of the model after every epoch."
      ]
    },
    {
      "cell_type": "code",
      "metadata": {
        "colab_type": "code",
        "id": "e06xMzcTtWIG",
        "scrolled": true,
        "colab": {
          "base_uri": "https://localhost:8080/",
          "height": 51
        },
        "outputId": "e0228485-6ea4-452a-cb3f-c9694ed806ab"
      },
      "source": [
        "#import required functions\n",
        "from sklearn.model_selection import train_test_split\n",
        "\n",
        "#divide the dataset into training and validation sets\n",
        "train_files, val_files, train_labels, val_labels = train_test_split(train_df['filename'],\n",
        "                                                                    labels, \n",
        "                                                                    test_size=0.2, random_state=42,shuffle=True)\n",
        "#check the shapes of training and validation sets\n",
        "print(train_files.shape, val_files.shape)\n",
        "print(train_labels.shape,val_labels.shape)"
      ],
      "execution_count": null,
      "outputs": [
        {
          "output_type": "stream",
          "text": [
            "(15432,) (3858,)\n",
            "(15432,) (3858,)\n"
          ],
          "name": "stdout"
        }
      ]
    },
    {
      "cell_type": "code",
      "metadata": {
        "id": "srjD4wO0xJg0",
        "colab_type": "code",
        "colab": {}
      },
      "source": [
        "from skimage.io import imread, imshow\n",
        "from skimage.transform import resize"
      ],
      "execution_count": null,
      "outputs": []
    },
    {
      "cell_type": "code",
      "metadata": {
        "id": "hx4VwqdfxJg2",
        "colab_type": "code",
        "colab": {},
        "outputId": "4527309d-edb5-4fbb-a92e-9f5ec0c9568a"
      },
      "source": [
        "shapes = []\n",
        "for i in train_df['filename']:\n",
        "    image = imread(os.path.join(base_dir,i))\n",
        "    shapes.append(image.shape)\n",
        "\n",
        "print('Minimum Dimensions - ',np.min(shapes,axis=0))\n",
        "print('Maximum Dimensions - ',np.max(shapes,axis=0))\n",
        "print('Average Dimensions - ',np.mean(shapes,axis=0))"
      ],
      "execution_count": null,
      "outputs": [
        {
          "output_type": "stream",
          "text": [
            "Minimum Dimensions -  [40 49  3]\n",
            "Maximum Dimensions -  [385 364   3]\n",
            "Average Dimensions -  [132.9600311  132.58335925   3.        ]\n"
          ],
          "name": "stdout"
        }
      ]
    },
    {
      "cell_type": "markdown",
      "metadata": {
        "id": "y6OwOgTexJg5",
        "colab_type": "text"
      },
      "source": [
        "We can see that there are images of different shapes. It is recommended to have images in shape size before going ahead with modeling process and it is also dependent on which feature extractor tool, you are using. "
      ]
    },
    {
      "cell_type": "markdown",
      "metadata": {
        "id": "F_lDquoVxJg5",
        "colab_type": "text"
      },
      "source": [
        "# 4. Method 1: Pixel Values as Features"
      ]
    },
    {
      "cell_type": "markdown",
      "metadata": {
        "id": "CVFbFYcnxJg6",
        "colab_type": "text"
      },
      "source": [
        "Here, we will use pixel value as a feature to classify images in Parasitized/Uninfected images. Although, we have looked at that these images are of different shapes so we will bring all the images in same shape by resizing to 40X40. And, after that convert two dimensional matrix to one dimensional vector. So, for each images, we will have 1600 (40X40) features."
      ]
    },
    {
      "cell_type": "code",
      "metadata": {
        "id": "QTeeVBFExJg6",
        "colab_type": "code",
        "colab": {}
      },
      "source": [
        "IMG_DIMS=(40,40)\n",
        "train_features_pixel=[]\n",
        "\n",
        "for i in train_files:\n",
        "    image = imread(os.path.join(base_dir,i))\n",
        "    image = resize(image,IMG_DIMS)\n",
        "    features = np.reshape(image,(IMG_DIMS[0]*IMG_DIMS[1]*3))\n",
        "    train_features_pixel.append(features)\n",
        "\n",
        "train_features_pixel = np.array(train_features_pixel)"
      ],
      "execution_count": null,
      "outputs": []
    },
    {
      "cell_type": "code",
      "metadata": {
        "id": "EZRbIt0PxJg9",
        "colab_type": "code",
        "colab": {},
        "outputId": "81ba5dbf-2126-4c19-e2be-1577b7492353"
      },
      "source": [
        "train_features_pixel.shape"
      ],
      "execution_count": null,
      "outputs": [
        {
          "output_type": "execute_result",
          "data": {
            "text/plain": [
              "(15432, 4800)"
            ]
          },
          "metadata": {
            "tags": []
          },
          "execution_count": 42
        }
      ]
    },
    {
      "cell_type": "code",
      "metadata": {
        "id": "NbviHzedxJg_",
        "colab_type": "code",
        "colab": {}
      },
      "source": [
        "IMG_DIMS=(40,40)\n",
        "val_features_pixel=[]\n",
        "\n",
        "for i in val_files:\n",
        "    image = imread(os.path.join(base_dir,i))\n",
        "    image = resize(image,IMG_DIMS)\n",
        "    features = np.reshape(image,(IMG_DIMS[0]*IMG_DIMS[1]*3))\n",
        "    val_features_pixel.append(features)\n",
        "\n",
        "val_features_pixel = np.array(val_features_pixel)"
      ],
      "execution_count": null,
      "outputs": []
    },
    {
      "cell_type": "code",
      "metadata": {
        "id": "WCL3_iDBxJhC",
        "colab_type": "code",
        "colab": {},
        "outputId": "ae8c3699-68d3-49af-9571-f2fdc005cf03"
      },
      "source": [
        "val_features_pixel.shape"
      ],
      "execution_count": null,
      "outputs": [
        {
          "output_type": "execute_result",
          "data": {
            "text/plain": [
              "(3858, 4800)"
            ]
          },
          "metadata": {
            "tags": []
          },
          "execution_count": 44
        }
      ]
    },
    {
      "cell_type": "markdown",
      "metadata": {
        "id": "rAs3VoavxJhF",
        "colab_type": "text"
      },
      "source": [
        "# 5. Model1: Model building using Pixel Features"
      ]
    },
    {
      "cell_type": "markdown",
      "metadata": {
        "id": "b1Eq9NY2xJhG",
        "colab_type": "text"
      },
      "source": [
        "## Logistic Regression"
      ]
    },
    {
      "cell_type": "code",
      "metadata": {
        "id": "mt7wXXnbxJhH",
        "colab_type": "code",
        "colab": {},
        "outputId": "6a672c3d-4508-400f-f133-6052943f0b9e"
      },
      "source": [
        "from sklearn.linear_model import LogisticRegression\n",
        "from sklearn.metrics import accuracy_score\n",
        "\n",
        "#training the Logistic model\n",
        "clf_lr_pixel = LogisticRegression()\n",
        "clf_lr_pixel.fit(train_features_pixel,train_labels)"
      ],
      "execution_count": null,
      "outputs": [
        {
          "output_type": "execute_result",
          "data": {
            "text/plain": [
              "LogisticRegression(C=1.0, class_weight=None, dual=False, fit_intercept=True,\n",
              "          intercept_scaling=1, max_iter=100, multi_class='ovr', n_jobs=1,\n",
              "          penalty='l2', random_state=None, solver='liblinear', tol=0.0001,\n",
              "          verbose=0, warm_start=False)"
            ]
          },
          "metadata": {
            "tags": []
          },
          "execution_count": 45
        }
      ]
    },
    {
      "cell_type": "code",
      "metadata": {
        "id": "USBRogtKxJhJ",
        "colab_type": "code",
        "colab": {},
        "outputId": "d867b2c5-8ab1-4283-b7b9-199fb0e36f9e"
      },
      "source": [
        "preditions_train = clf_lr_pixel.predict(train_features_pixel)\n",
        "print(\"Training: Model Accuracy - \",accuracy_score(train_labels,preditions_train)*100,'%')\n",
        "\n",
        "predictions_val = clf_lr_pixel.predict(val_features_pixel)\n",
        "print(\"Validation: Model Accuracy - \",accuracy_score(predictions_val,val_labels)*100,'%')"
      ],
      "execution_count": null,
      "outputs": [
        {
          "output_type": "stream",
          "text": [
            "Training: Model Accuracy -  77.41057542768274 %\n",
            "Validation: Model Accuracy -  68.27371695178849 %\n"
          ],
          "name": "stdout"
        }
      ]
    },
    {
      "cell_type": "markdown",
      "metadata": {
        "id": "BRKN6NHCxJhL",
        "colab_type": "text"
      },
      "source": [
        "## Linear SVM"
      ]
    },
    {
      "cell_type": "code",
      "metadata": {
        "id": "dI-cjofAxJhM",
        "colab_type": "code",
        "colab": {},
        "outputId": "b2e6e1b6-d03e-4259-ea7b-8e9bd48e8c0c"
      },
      "source": [
        "from sklearn.svm import LinearSVC\n",
        "\n",
        "#training the Logistic model\n",
        "clf_svc_pixel = LinearSVC(random_state=102)\n",
        "clf_svc_pixel.fit(train_features_pixel,train_labels)"
      ],
      "execution_count": null,
      "outputs": [
        {
          "output_type": "execute_result",
          "data": {
            "text/plain": [
              "LinearSVC(C=1.0, class_weight=None, dual=True, fit_intercept=True,\n",
              "     intercept_scaling=1, loss='squared_hinge', max_iter=1000,\n",
              "     multi_class='ovr', penalty='l2', random_state=102, tol=0.0001,\n",
              "     verbose=0)"
            ]
          },
          "metadata": {
            "tags": []
          },
          "execution_count": 47
        }
      ]
    },
    {
      "cell_type": "code",
      "metadata": {
        "id": "X97e8kz1xJhO",
        "colab_type": "code",
        "colab": {},
        "outputId": "8cb217da-fbbc-40f6-d7cf-eeb70aec6f7c"
      },
      "source": [
        "preditions_train = clf_svc_pixel.predict(train_features_pixel)\n",
        "print(\"Training: Model Accuracy - \",accuracy_score(train_labels,preditions_train)*100,'%')\n",
        "\n",
        "predictions_val = clf_svc_pixel.predict(val_features_pixel)\n",
        "print(\"Validation: Model Accuracy - \",accuracy_score(predictions_val,val_labels)*100,'%')"
      ],
      "execution_count": null,
      "outputs": [
        {
          "output_type": "stream",
          "text": [
            "Training: Model Accuracy -  69.0772420943494 %\n",
            "Validation: Model Accuracy -  63.089683773976155 %\n"
          ],
          "name": "stdout"
        }
      ]
    },
    {
      "cell_type": "markdown",
      "metadata": {
        "id": "EdS-Wo7PxJhQ",
        "colab_type": "text"
      },
      "source": [
        "# 6. Method 2: HOG Features"
      ]
    },
    {
      "cell_type": "markdown",
      "metadata": {
        "id": "iiHNHSTrxJhR",
        "colab_type": "text"
      },
      "source": [
        "Your image size should be in 64X128(Width X Height) shape to extract HOG features from images. We will first change image shape size to 64X128 first and then extract HOG features."
      ]
    },
    {
      "cell_type": "code",
      "metadata": {
        "id": "L-LSvV-0xJhS",
        "colab_type": "code",
        "colab": {}
      },
      "source": [
        "from skimage.feature import hog"
      ],
      "execution_count": null,
      "outputs": []
    },
    {
      "cell_type": "code",
      "metadata": {
        "id": "UP72aUjoxJhV",
        "colab_type": "code",
        "colab": {}
      },
      "source": [
        "#Showing example of one image first\n",
        "index= np.random.randint(0,1000)\n",
        "\n",
        "image = imread(os.path.join(base_dir,train_files.iloc[index]))\n",
        "IMG_DIMS = (128,64) # SkIMAGE takes input in HEIGHT X WIDTH format\n",
        "image1 = resize(image,IMG_DIMS)\n",
        "#calculating HOG features\n",
        "features, hog_image = hog(image1, orientations=9, pixels_per_cell=(8, 8),\n",
        "                    cells_per_block=(2, 2), visualize=True, multichannel=True)"
      ],
      "execution_count": null,
      "outputs": []
    },
    {
      "cell_type": "code",
      "metadata": {
        "id": "HRDsxygFxJhY",
        "colab_type": "code",
        "colab": {},
        "outputId": "70762967-c8b6-44a5-bbbb-245907bf1e18"
      },
      "source": [
        "#Original Image\n",
        "imshow(image)"
      ],
      "execution_count": null,
      "outputs": [
        {
          "output_type": "execute_result",
          "data": {
            "text/plain": [
              "<matplotlib.image.AxesImage at 0x7f3a0045f6d8>"
            ]
          },
          "metadata": {
            "tags": []
          },
          "execution_count": 51
        },
        {
          "output_type": "display_data",
          "data": {
            "image/png": "[encoded data removed]",
            "text/plain": [
              "<Figure size 432x288 with 1 Axes>"
            ]
          },
          "metadata": {
            "tags": [],
            "needs_background": "light"
          }
        }
      ]
    },
    {
      "cell_type": "code",
      "metadata": {
        "id": "6UHakKo1xJha",
        "colab_type": "code",
        "colab": {},
        "outputId": "b14952f9-e452-42b2-ca07-a470b9a771a8"
      },
      "source": [
        "#After Resize\n",
        "imshow(image1)"
      ],
      "execution_count": null,
      "outputs": [
        {
          "output_type": "execute_result",
          "data": {
            "text/plain": [
              "<matplotlib.image.AxesImage at 0x7f3a0037ef28>"
            ]
          },
          "metadata": {
            "tags": []
          },
          "execution_count": 52
        },
        {
          "output_type": "display_data",
          "data": {
            "image/png": "[encoded data removed]",
            "text/plain": [
              "<Figure size 432x288 with 1 Axes>"
            ]
          },
          "metadata": {
            "tags": [],
            "needs_background": "light"
          }
        }
      ]
    },
    {
      "cell_type": "code",
      "metadata": {
        "id": "5NAH7b9JxJhc",
        "colab_type": "code",
        "colab": {},
        "outputId": "fc945ae4-d40d-4213-a82a-c0c8d7876a2c"
      },
      "source": [
        "#Image with HOG Image (Look At the Edges)\n",
        "imshow(hog_image)"
      ],
      "execution_count": null,
      "outputs": [
        {
          "output_type": "execute_result",
          "data": {
            "text/plain": [
              "<matplotlib.image.AxesImage at 0x7f3a00417e10>"
            ]
          },
          "metadata": {
            "tags": []
          },
          "execution_count": 53
        },
        {
          "output_type": "display_data",
          "data": {
            "image/png": "[encoded data removed]",
            "text/plain": [
              "<Figure size 432x288 with 1 Axes>"
            ]
          },
          "metadata": {
            "tags": [],
            "needs_background": "light"
          }
        }
      ]
    },
    {
      "cell_type": "code",
      "metadata": {
        "id": "A1GgbC0axJhf",
        "colab_type": "code",
        "colab": {},
        "outputId": "ccc08e47-1e9f-4779-de27-069950bda6c6"
      },
      "source": [
        "#Highlighting the HOG image using Matplotlib\n",
        "import matplotlib.pyplot as plt\n",
        "plt.imshow(hog_image, cmap=\"gray\")"
      ],
      "execution_count": null,
      "outputs": [
        {
          "output_type": "execute_result",
          "data": {
            "text/plain": [
              "<matplotlib.image.AxesImage at 0x7f3a0032ffd0>"
            ]
          },
          "metadata": {
            "tags": []
          },
          "execution_count": 54
        },
        {
          "output_type": "display_data",
          "data": {
            "image/png": "[encoded data removed]",
            "text/plain": [
              "<Figure size 432x288 with 1 Axes>"
            ]
          },
          "metadata": {
            "tags": [],
            "needs_background": "light"
          }
        }
      ]
    },
    {
      "cell_type": "code",
      "metadata": {
        "id": "Dc3uapSWxJhh",
        "colab_type": "code",
        "colab": {},
        "outputId": "bf04088b-9292-4de9-f4f3-872a224592a0"
      },
      "source": [
        "#Shape of HOG Feature Vector\n",
        "features.shape"
      ],
      "execution_count": null,
      "outputs": [
        {
          "output_type": "execute_result",
          "data": {
            "text/plain": [
              "(3780,)"
            ]
          },
          "metadata": {
            "tags": []
          },
          "execution_count": 55
        }
      ]
    },
    {
      "cell_type": "markdown",
      "metadata": {
        "id": "ZMqw-u8ixJhl",
        "colab_type": "text"
      },
      "source": [
        "## Calculate HOG features for both training and Validation images"
      ]
    },
    {
      "cell_type": "code",
      "metadata": {
        "colab_type": "code",
        "id": "4HmXqmzZtWIP",
        "scrolled": true,
        "colab": {
          "base_uri": "https://localhost:8080/",
          "height": 248
        },
        "outputId": "22338b2a-3797-4a51-b5e7-180794b1b777"
      },
      "source": [
        "IMG_DIMS = (128,64)\n",
        "\n",
        "#For Training Images\n",
        "\n",
        "train_features_hog = []\n",
        "for i in train_files:\n",
        "    image = imread(os.path.join(base_dir,i))\n",
        "    image = resize(image,IMG_DIMS)\n",
        "    #calculating HOG features\n",
        "    features, hog_image = hog(image, orientations=9, pixels_per_cell=(8, 8),\n",
        "                    cells_per_block=(2, 2), visualize=True, multichannel=True)\n",
        "    hog_features = np.reshape(features,(features.shape[0]))\n",
        "    train_features_hog.append(hog_features)\n",
        "\n",
        "train_features_hog = np.array(train_features_hog)\n",
        "  \n",
        "#For Validation Images\n",
        "\n",
        "val_features_hog = []\n",
        "for i in val_files:\n",
        "    image = imread(os.path.join(base_dir,i))\n",
        "    image = resize(image,IMG_DIMS)\n",
        "    #calculating HOG features\n",
        "    features, hog_image = hog(image, orientations=9, pixels_per_cell=(8, 8),\n",
        "                    cells_per_block=(2, 2), visualize=True, multichannel=True)\n",
        "    hog_features = np.reshape(features,(features.shape[0]))\n",
        "    val_features_hog.append(hog_features)\n",
        "\n",
        "val_features_hog = np.array(val_features_hog)\n",
        "\n",
        "#checking the shape of the final lists after reading all the images\n",
        "train_features_hog.shape, val_features_hog.shape"
      ],
      "execution_count": null,
      "outputs": [
        {
          "output_type": "execute_result",
          "data": {
            "text/plain": [
              "((15432, 3780), (3858, 3780))"
            ]
          },
          "metadata": {
            "tags": []
          },
          "execution_count": 56
        }
      ]
    },
    {
      "cell_type": "markdown",
      "metadata": {
        "id": "6-EU53z4xJhn",
        "colab_type": "text"
      },
      "source": [
        "# 7. Model2: Model building using HOG Features"
      ]
    },
    {
      "cell_type": "markdown",
      "metadata": {
        "id": "AkUSQUQXxJho",
        "colab_type": "text"
      },
      "source": [
        "## Logistic Regression"
      ]
    },
    {
      "cell_type": "code",
      "metadata": {
        "id": "-QdlOHs-xJho",
        "colab_type": "code",
        "colab": {},
        "outputId": "332cb953-8d2b-438f-96b6-d233ac35c31e"
      },
      "source": [
        "from sklearn.linear_model import LogisticRegression\n",
        "from sklearn.metrics import accuracy_score\n",
        "\n",
        "#training the Logistic model\n",
        "clf_lr_hog = LogisticRegression()\n",
        "clf_lr_hog.fit(train_features_hog,train_labels)"
      ],
      "execution_count": null,
      "outputs": [
        {
          "output_type": "execute_result",
          "data": {
            "text/plain": [
              "LogisticRegression(C=1.0, class_weight=None, dual=False, fit_intercept=True,\n",
              "          intercept_scaling=1, max_iter=100, multi_class='ovr', n_jobs=1,\n",
              "          penalty='l2', random_state=None, solver='liblinear', tol=0.0001,\n",
              "          verbose=0, warm_start=False)"
            ]
          },
          "metadata": {
            "tags": []
          },
          "execution_count": 58
        }
      ]
    },
    {
      "cell_type": "code",
      "metadata": {
        "id": "pwccA502xJhq",
        "colab_type": "code",
        "colab": {},
        "outputId": "89fb79a7-73f9-4c1c-9972-dd5e5b82035b"
      },
      "source": [
        "preditions_train = clf_lr_hog.predict(train_features_hog)\n",
        "print(\"Training: Model Accuracy - \",accuracy_score(train_labels,preditions_train)*100,'%')\n",
        "\n",
        "predictions_val = clf_lr_hog.predict(val_features_hog)\n",
        "print(\"Validation: Model Accuracy - \",accuracy_score(predictions_val,val_labels)*100,'%')"
      ],
      "execution_count": null,
      "outputs": [
        {
          "output_type": "stream",
          "text": [
            "Training: Model Accuracy -  89.83929497148782 %\n",
            "Validation: Model Accuracy -  82.19284603421461 %\n"
          ],
          "name": "stdout"
        }
      ]
    },
    {
      "cell_type": "markdown",
      "metadata": {
        "id": "sXk82rbGxJhs",
        "colab_type": "text"
      },
      "source": [
        "## Linear SVM"
      ]
    },
    {
      "cell_type": "code",
      "metadata": {
        "id": "tSUv7AjOxJht",
        "colab_type": "code",
        "colab": {},
        "outputId": "f90ff724-8999-44bd-fba6-e38ab3642361"
      },
      "source": [
        "from sklearn.svm import LinearSVC\n",
        "\n",
        "#training the Logistic model\n",
        "clf_svc_hog = LinearSVC()\n",
        "clf_svc_hog.fit(train_features_hog,train_labels)"
      ],
      "execution_count": null,
      "outputs": [
        {
          "output_type": "execute_result",
          "data": {
            "text/plain": [
              "LinearSVC(C=1.0, class_weight=None, dual=True, fit_intercept=True,\n",
              "     intercept_scaling=1, loss='squared_hinge', max_iter=1000,\n",
              "     multi_class='ovr', penalty='l2', random_state=None, tol=0.0001,\n",
              "     verbose=0)"
            ]
          },
          "metadata": {
            "tags": []
          },
          "execution_count": 60
        }
      ]
    },
    {
      "cell_type": "code",
      "metadata": {
        "id": "F0mGof0bxJhw",
        "colab_type": "code",
        "colab": {},
        "outputId": "2e300ad8-a4f3-482f-9ced-d610d1729082"
      },
      "source": [
        "preditions_train = clf_svc_hog.predict(train_features_hog)\n",
        "print(\"Training: Model Accuracy - \",accuracy_score(train_labels,preditions_train)*100,'%')\n",
        "\n",
        "predictions_val = clf_svc_hog.predict(val_features_hog)\n",
        "print(\"Validation: Model Accuracy - \",accuracy_score(predictions_val,val_labels)*100,'%')"
      ],
      "execution_count": null,
      "outputs": [
        {
          "output_type": "stream",
          "text": [
            "Training: Model Accuracy -  92.6905132192846 %\n",
            "Validation: Model Accuracy -  81.00051840331778 %\n"
          ],
          "name": "stdout"
        }
      ]
    }
  ]
}